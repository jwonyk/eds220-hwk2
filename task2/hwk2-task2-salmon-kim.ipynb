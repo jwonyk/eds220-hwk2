{
 "cells": [
  {
   "cell_type": "code",
   "execution_count": 1,
   "metadata": {
    "deletable": false,
    "editable": false
   },
   "outputs": [],
   "source": [
    "# Initialize Otter\n",
    "import otter\n",
    "grader = otter.Notebook(\"hwk2-task2-salmon-kim.ipynb\")"
   ]
  },
  {
   "attachments": {},
   "cell_type": "markdown",
   "metadata": {},
   "source": [
    "# Task 2: Wrangling Alaska salmon catch data \n",
    "\n",
    "## Instructions \n",
    "\n",
    "- First, update the following cell to have a link to *your* Homework 2 GitHub repository:\n",
    "\n",
    "**UPDATE THIS LINK**\n",
    "https://github.com/MEDS-eds-220/eds220-hwk2\n",
    "\n",
    "\n",
    "- Review the [complete rubric for this task](https://docs.google.com/document/d/1x0BoU6IH4cnOR1-n7i9CYQ9wUC37yDpYlQ4j6rCfcsU/edit?tab=t.0) before starting.\n",
    "\n",
    "- **Meaningful commits should be made every time you finish a major step.** We'll check your repository and view the commit history.\n",
    "\n",
    "- **Every code cell should have a comment.** Err on the side of commenting too much for now. Comments should follow best practices.\n",
    "\n",
    "- **Do not update the top cell with the `otter` import**, this is used internally for grading.\n",
    "\n",
    "## Acknowledgments\n",
    "\n",
    "This exercise is based on the [Cleaning and Wrangling Data in R lesson by the NCEAS Learning Hub](https://learning.nceas.ucsb.edu/2023-06-delta/session_11.html).\n",
    "\n",
    "\n",
    "> Halina Do-Linh, Carmen Galaz García, Matthew B. Jones, Camila Vargas Poulsen. 2023. Open Science Synthesis training Week 1. NCEAS Learning Hub & Delta Stewardship Council.\n",
    "\n",
    "\n",
    "## About the data\n",
    "\n",
    "In this task you will use simplified data from the Alaska Department of Fish & Game containing commercial salmon catch data from 1878 to 1997. The original data can be accessed from the KNB repository:\n",
    "\n",
    "> [Mike Byerly. (2016). Alaska commercial salmon catches by management region (1886-1997).](https://knb.ecoinformatics.org/view/df35b.304.2) Gulf of Alaska Data Portal. df35b.304.2.\n",
    "\n",
    "The simplified dataset is in CSV format in the homework repository and has the following columns:\n",
    "\n",
    "| Column | Description |\n",
    "| ------ | ----------- | \n",
    "| Regions | Region code |\n",
    "| Year | Year fish were caught |\n",
    "| notesRegCode | Notes and comments |\n",
    "| Species | Species of salmon caught |\n",
    "| Catch | Commercial catches of salmon species (in thousands of fish) |"
   ]
  },
  {
   "attachments": {},
   "cell_type": "markdown",
   "metadata": {},
   "source": [
    "## COMPLETE WORKFLOW\n",
    "\n",
    "You will use the next code cell to complete the last exercise in the task. Leave it blank for now. "
   ]
  },
  {
   "cell_type": "code",
   "execution_count": 2,
   "metadata": {},
   "outputs": [],
   "source": [
    "# FINAL CODE\n",
    "\n"
   ]
  },
  {
   "attachments": {},
   "cell_type": "markdown",
   "metadata": {},
   "source": [
    "## 1\n",
    "\n",
    "a. Use this code cell to import the data from the `salmon_data.csv` as `catch_data`. Look at the head of the dataframe. "
   ]
  },
  {
   "attachments": {},
   "cell_type": "markdown",
   "metadata": {
    "deletable": false,
    "editable": false
   },
   "source": [
    "<!-- BEGIN QUESTION -->\n",
    "\n"
   ]
  },
  {
   "cell_type": "code",
   "execution_count": 2,
   "metadata": {
    "scrolled": true,
    "tags": []
   },
   "outputs": [
    {
     "data": {
      "text/html": [
       "<div>\n",
       "<style scoped>\n",
       "    .dataframe tbody tr th:only-of-type {\n",
       "        vertical-align: middle;\n",
       "    }\n",
       "\n",
       "    .dataframe tbody tr th {\n",
       "        vertical-align: top;\n",
       "    }\n",
       "\n",
       "    .dataframe thead th {\n",
       "        text-align: right;\n",
       "    }\n",
       "</style>\n",
       "<table border=\"1\" class=\"dataframe\">\n",
       "  <thead>\n",
       "    <tr style=\"text-align: right;\">\n",
       "      <th></th>\n",
       "      <th>Region</th>\n",
       "      <th>Year</th>\n",
       "      <th>notesRegCode</th>\n",
       "      <th>Species</th>\n",
       "      <th>Catch</th>\n",
       "    </tr>\n",
       "  </thead>\n",
       "  <tbody>\n",
       "    <tr>\n",
       "      <th>0</th>\n",
       "      <td>SSE</td>\n",
       "      <td>1886</td>\n",
       "      <td>NaN</td>\n",
       "      <td>Chinook</td>\n",
       "      <td>0</td>\n",
       "    </tr>\n",
       "    <tr>\n",
       "      <th>1</th>\n",
       "      <td>SSE</td>\n",
       "      <td>1887</td>\n",
       "      <td>NaN</td>\n",
       "      <td>Chinook</td>\n",
       "      <td>0</td>\n",
       "    </tr>\n",
       "    <tr>\n",
       "      <th>2</th>\n",
       "      <td>SSE</td>\n",
       "      <td>1888</td>\n",
       "      <td>NaN</td>\n",
       "      <td>Chinook</td>\n",
       "      <td>0</td>\n",
       "    </tr>\n",
       "    <tr>\n",
       "      <th>3</th>\n",
       "      <td>SSE</td>\n",
       "      <td>1889</td>\n",
       "      <td>NaN</td>\n",
       "      <td>Chinook</td>\n",
       "      <td>0</td>\n",
       "    </tr>\n",
       "    <tr>\n",
       "      <th>4</th>\n",
       "      <td>SSE</td>\n",
       "      <td>1890</td>\n",
       "      <td>NaN</td>\n",
       "      <td>Chinook</td>\n",
       "      <td>0</td>\n",
       "    </tr>\n",
       "  </tbody>\n",
       "</table>\n",
       "</div>"
      ],
      "text/plain": [
       "  Region  Year notesRegCode  Species Catch\n",
       "0    SSE  1886          NaN  Chinook     0\n",
       "1    SSE  1887          NaN  Chinook     0\n",
       "2    SSE  1888          NaN  Chinook     0\n",
       "3    SSE  1889          NaN  Chinook     0\n",
       "4    SSE  1890          NaN  Chinook     0"
      ]
     },
     "execution_count": 2,
     "metadata": {},
     "output_type": "execute_result"
    }
   ],
   "source": [
    "# a.\n",
    "# Load the packages\n",
    "import pandas as pd\n",
    "\n",
    "# Set pandas to display all rows, columns, and what is contained\n",
    "pd.set_option(\"display.max_rows\", None)\n",
    "pd.set_option(\"display.max_columns\", None)\n",
    "pd.set_option(\"display.max_colwidth\", None)\n",
    "\n",
    "# Read in data\n",
    "catch_data = pd.read_csv('data/salmon_data.csv')\n",
    "\n",
    "# Use `.head` to check first 5 data\n",
    "catch_data.head(5)"
   ]
  },
  {
   "attachments": {},
   "cell_type": "markdown",
   "metadata": {
    "deletable": false,
    "editable": false
   },
   "source": [
    "<!-- END QUESTION -->\n",
    "\n",
    "<!-- BEGIN QUESTION -->\n",
    "\n",
    "b. Use this code cell to make some other preliminary data exploration of your choosing."
   ]
  },
  {
   "cell_type": "code",
   "execution_count": 3,
   "metadata": {
    "tags": []
   },
   "outputs": [
    {
     "name": "stdout",
     "output_type": "stream",
     "text": [
      "<class 'pandas.core.frame.DataFrame'>\n",
      "RangeIndex: 8540 entries, 0 to 8539\n",
      "Data columns (total 5 columns):\n",
      " #   Column        Non-Null Count  Dtype \n",
      "---  ------        --------------  ----- \n",
      " 0   Region        8540 non-null   object\n",
      " 1   Year          8540 non-null   int64 \n",
      " 2   notesRegCode  1415 non-null   object\n",
      " 3   Species       8540 non-null   object\n",
      " 4   Catch         8540 non-null   object\n",
      "dtypes: int64(1), object(4)\n",
      "memory usage: 333.7+ KB\n",
      "None\n",
      "\n",
      "               Year\n",
      "count  8540.000000\n",
      "mean   1946.323185\n",
      "std      30.341709\n",
      "min    1878.000000\n",
      "25%    1922.000000\n",
      "50%    1947.000000\n",
      "75%    1972.000000\n",
      "max    1997.000000\n",
      "\n",
      "Names of salmon species:  ['Chinook' 'Sockeye' 'Coho' 'Pink' 'Chum']\n",
      "Species\n",
      "Chinook    1708\n",
      "Sockeye    1708\n",
      "Coho       1708\n",
      "Pink       1708\n",
      "Chum       1708\n",
      "Name: count, dtype: int64\n"
     ]
    }
   ],
   "source": [
    "# b.\n",
    "# Using `print()` to show all data explorations\n",
    "# Use `.info()` to check summary of 'catch_data' dataframe\n",
    "print(catch_data.info())\n",
    "\n",
    "# Use `.describe()` to check summary statistics\n",
    "print('\\n', catch_data.describe())\n",
    "\n",
    "# Use `.unique()` to check how many different names of values we have in 'Species' column\n",
    "print('\\nNames of salmon species: ', catch_data['Species'].unique())\n",
    "\n",
    "# Use `.value_counts()` to check the counts in each unique value of 'Species' column\n",
    "print(catch_data['Species'].value_counts())"
   ]
  },
  {
   "attachments": {},
   "cell_type": "markdown",
   "metadata": {
    "deletable": false,
    "editable": false
   },
   "source": [
    "<!-- END QUESTION -->\n",
    "\n",
    "<!-- BEGIN QUESTION -->\n",
    "\n",
    "c. Use this markdown cell to explain why you decided to do the exploration in c. and what information you obtained from doing it."
   ]
  },
  {
   "attachments": {},
   "cell_type": "markdown",
   "metadata": {
    "deletable": false,
    "editable": false
   },
   "source": [
    "I explored the dataset to understand the structure, information, and distribution of the data frame and salmon species. I have used `.info()` to find out overall structure of the dataframe `catch_data` along with `.describe()` to know basic summary statistics. I also checked the `'Species'` column in `catch_data` and used `.unique()` to see the names of salmon species. After seeing all the names, I have used `.value_counts()` to see the number of counts of each salmon species."
   ]
  },
  {
   "attachments": {},
   "cell_type": "markdown",
   "metadata": {
    "deletable": false,
    "editable": false
   },
   "source": [
    "<!-- END QUESTION -->\n",
    "\n",
    "## 2\n",
    "In the next cell:\n",
    "\n",
    "a. Store the unique values of the `notesRegCode` column in the `notes_unique` variable. "
   ]
  },
  {
   "cell_type": "code",
   "execution_count": 4,
   "metadata": {
    "tags": []
   },
   "outputs": [
    {
     "name": "stdout",
     "output_type": "stream",
     "text": [
      "[nan 'Includes Yakutat catches' 'Yakutat catch included in No SE AK catch'\n",
      " 'Estimated from canned production, probably sockeye' 'No fishery'\n",
      " 'Bering River catches included in Copper River catches'\n",
      " 'Includes Bering River catches; estimated from canned'\n",
      " 'Includes Bering River catches'\n",
      " 'Coho and pink catch estimated from canned production'\n",
      " 'Includes Bering River; coho and pink estimated fro canned'\n",
      " 'Pink catch estimated from canned'\n",
      " 'Includes Bering River; coho pink and chum estimated from canned'\n",
      " 'Includes Bering River; pink estimated from canned'\n",
      " 'Includes Bering River; pink and chum estimated from canned'\n",
      " 'Includes Copper River catches'\n",
      " 'Includes Copper River catches; coho catch porbably mostly pinks'\n",
      " 'Eshamy District only' 'Estimated from canned; excludes Resurrection Bay'\n",
      " 'Estimated from canned production' 'No Resurrection Bay fishery'\n",
      " 'Resurrection bay contribution estimated from canned production'\n",
      " 'No reported catch'\n",
      " 'Sockeye and pink and 9922 chum from Port Clarence area'\n",
      " 'Chinook and coho and chum estimated from canned production'\n",
      " 'Pink catch includes some chums'\n",
      " 'Pink and chum catch estimated form canned production'\n",
      " 'Pink and chum catch estimated form canned production; from Castle Cp. To E. boundary'\n",
      " 'Estimated from canned production; includes Aleautian Island catches'\n",
      " 'Catches from Unalaksa to Castle Cape'\n",
      " 'Catches included in S. peninsula catches or none']\n"
     ]
    }
   ],
   "source": [
    "# 2a.\n",
    "# Use `.unique()` to check how many different names of values we have in 'notesRegCode' column\n",
    "notes_unique = catch_data['notesRegCode'].unique()\n",
    "print(notes_unique)"
   ]
  },
  {
   "cell_type": "code",
   "execution_count": 5,
   "metadata": {
    "deletable": false,
    "editable": false
   },
   "outputs": [
    {
     "data": {
      "text/html": [
       "<p><strong><pre style='display: inline;'>q2a</pre></strong> passed! ✨</p>"
      ],
      "text/plain": [
       "q2a results: All test cases passed!"
      ]
     },
     "execution_count": 5,
     "metadata": {},
     "output_type": "execute_result"
    }
   ],
   "source": [
    "grader.check(\"q2a\")"
   ]
  },
  {
   "attachments": {},
   "cell_type": "markdown",
   "metadata": {
    "deletable": false,
    "editable": false
   },
   "source": [
    "b. Update the dataframe so it doesn't include the `notesRegCode` column. Verify the column is no longer in the dataframe."
   ]
  },
  {
   "cell_type": "code",
   "execution_count": 7,
   "metadata": {
    "tags": []
   },
   "outputs": [],
   "source": [
    "# 2b.\n",
    "# Use `.drop()` to exclude the column name 'notesRegCode' from the dataframe\n",
    "catch_data = catch_data.drop(columns = ['notesRegCode'])"
   ]
  },
  {
   "cell_type": "code",
   "execution_count": 8,
   "metadata": {
    "deletable": false,
    "editable": false
   },
   "outputs": [
    {
     "data": {
      "text/html": [
       "<p><strong><pre style='display: inline;'>q2b</pre></strong> passed! 🌟</p>"
      ],
      "text/plain": [
       "q2b results: All test cases passed!"
      ]
     },
     "execution_count": 8,
     "metadata": {},
     "output_type": "execute_result"
    }
   ],
   "source": [
    "grader.check(\"q2b\")"
   ]
  },
  {
   "attachments": {},
   "cell_type": "markdown",
   "metadata": {
    "deletable": false,
    "editable": false
   },
   "source": [
    "<!-- BEGIN QUESTION -->\n",
    "\n",
    "## 3\n",
    "Does each column have the expected data type? Use this code cell to obtain this information and write your answer in the next markdown cell.\n"
   ]
  },
  {
   "attachments": {},
   "cell_type": "markdown",
   "metadata": {},
   "source": [
    "_Columns such as `'Region'` and `'Species'` columns are `object` type which is expected as those columns contains text. `'Year'` column is `int64` data type as expected since the column only contains numerical values. Only `'Catch'` column stands out for being `object` type as it only contains numeric values as this column represents \"Commercial catches of salmon species (in thousands of fish)\" from the description._"
   ]
  },
  {
   "cell_type": "code",
   "execution_count": 14,
   "metadata": {
    "scrolled": true,
    "tags": []
   },
   "outputs": [
    {
     "name": "stdout",
     "output_type": "stream",
     "text": [
      "Region     object\n",
      "Year        int64\n",
      "Species    object\n",
      "Catch      object\n",
      "dtype: object\n"
     ]
    }
   ],
   "source": [
    "# Use `.dtypes` to check the data types of our dataframe\n",
    "print(catch_data.dtypes)"
   ]
  },
  {
   "cell_type": "code",
   "execution_count": 15,
   "metadata": {},
   "outputs": [
    {
     "name": "stdout",
     "output_type": "stream",
     "text": [
      "['0', '3', '4', '5', '9', '12', '17', '43', '34', '66', '80', '152', '191', '133', '119', '39', '115', '122', '121', '81', '54', '79', '140', '49', '106', '63', '69', '145', '76', '220', '297', '315', '341', '200', '36', '399', '609', '485', '57', '93', '378', '146', '257', '298', '319', '266', '187', '211', '263', '204', '169', '151', '107', '138', '150', '124', '100', '73', '84', '118', '102', '113', '108', '110', '95', '112', '125', '142', '144', '104', '61', '96', '127', '88', '68', '74', '70', '78', '120', '98', '56', '32', '24', '38', '7', '11', '15', '13', '6', '33', '46', '27', '37', '62', '65', '71', '94', '135', '176', '173', '246', '149', '223', '478', '479', '251', '197', '295', '239', '379', '307', '163', '312', '597', '278', '265', '493', '370', '515', '180', '252', '261', '170', '205', '222', '192', '262', '293', '226', '218', '126', '184', '207', '185', '130', '174', '238', '193', '213', '198', '264', '217', '167', '194', '183', '212', '159', '209', '134', '182', '256', '2', '1', '16', '20', '19', '10', '83', '18', '8', '41', '31', '42', '181', '60', '103', '97', '156', '288', '254', 'I', '14', '23', '21', '45', '47', '25', '35', '29', '22', '53', '40', '30', '48', '67', '58', '64', '51', '87', '72', '59', '75', '86', '105', '111', '85', '188', '89', '28', '44', '109', '117', '143', '90', '101', '148', '91', '202', '92', '77', '123', '131', '208', '237', '253', '199', '141', '99', '26', '50', '129', '128', '154', '158', '132', '155', '224', '274', '189', '408', '989', '791', '708', '797', '763', '230', '1143', '1009', '981', '808', '731', '723', '978', '1032', '392', '826', '781', '596', '657', '789', '1240', '941', '329', '673', '1007', '1065', '682', '832', '573', '454', '624', '780', '883', '626', '412', '456', '736', '1215', '1056', '1072', '1098', '851', '1008', '954', '533', '823', '402', '250', '244', '221', '281', '457', '606', '440', '234', '337', '501', '541', '364', '346', '299', '466', '445', '580', '309', '248', '463', '422', '650', '455', '552', '739', '713', '839', '935', '638', '1129', '904', '540', '888', '1131', '1276', '1328', '1797', '2313', '1704', '1353', '2110', '2012', '557', '636', '670', '578', '428', '349', '469', '338', '1024', '711', '1185', '1278', '2072', '1335', '1330', '1365', '1585', '1541', '1313', '1567', '1254', '2128', '1538', '1274', '1454', '1486', '1480', '1221', '631', '810', '972', '1014', '934', '625', '897', '1494', '661', '1026', '441', '431', '751', '940', '903', '1089', '1063', '424', '716', '623', '367', '306', '390', '352', '659', '641', '336', '470', '420', '388', '449', '345', '326', '365', '477', '423', '303', '371', '324', '259', '356', '210', '475', '497', '577', '410', '664', '535', '505', '555', '532', '480', '354', '267', '331', '483', '465', '508', '562', '544', '433', '435', '494', '486', '513', '377', '360', '395', '201', '242', '313', '280', '157', '355', '407', '228', '375', '171', '243', '233', '116', '82', '186', '165', '160', '153', '235', '260', '162', '330', '347', '114', '269', '389', '583', '553', '52', '139', '502', '320', '317', '405', '571', '819', '770', '920', '1492', '1329', '855', '570', '506', '161', '968', '830', '760', '629', '914', '863', '768', '634', '436', '444', '700', '824', '550', '442', '800', '452', '1136', '564', '1100', '637', '542', '300', '361', '528', '678', '818', '1006', '697', '1115', '617', '727', '333', '607', '335', '865', '619', '1178', '627', '900', '928', '1181', '1028', '846', '1208', '971', '1398', '1153', '1272', '2357', '2986', '411', '793', '710', '715', '417', '527', '748', '814', '249', '175', '285', '190', '310', '1055', '496', '489', '545', '419', '334', '1167', '551', '559', '585', '482', '461', '671', '840', '1249', '1195', '1369', '1473', '1861', '1699', '1660', '1668', '944', '1315', '984', '860', '1099', '1511', '2000', '1459', '1173', '1050', '918', '806', '1132', '1336', '1815', '1356', '2390', '1581', '2425', '2335', '1649', '1293', '1540', '1468', '1940', '1557', '1474', '2035', '2153', '2642', '2481', '1510', '1490', '1247', '1064', '1295', '948', '958', '991', '1426', '1867', '1409', '1200', '815', '753', '938', '699', '525', '1722', '2154', '2778', '1643', '1550', '3391', '5237', '2376', '4339', '5030', '9718', '7165', '5185', '3820', '2508', '9301', '5004', '3706', '3243', '4376', '4450', '1235', '1472', '2100', '3318', '4928', '5113', '8547', '10221', '12809', '16320', '11903', '14834', '10823', '10193', '16234', '15498', '11594', '8815', '19696', '20582', '20195', '14788', '17522', '24514', '23091', '7161', '8898', '15680', '23632', '18182', '10302', '7910', '19414', '11072', '19710', '12189', '4259', '12791', '14940', '23709', '20601', '3023', '20587', '21258', '24700', '13332', '4727', '7154', '6343', '17330', '11546', '7300', '8051', '18642', '14544', '6449', '7157', '4327', '11266', '6112', '4653', '4549', '8881', '6276', '4608', '13705', '11914', '4718', '2871', '5596', '24255', '9314', '4331', '2793', '6617', '20354', '9584', '2825', '761', '1362', '4899', '5617', '4878', '9928', '20737', '22373', '25603', '15103', '37372', '24710', '23703', '15776', '16069', '13990', '28735', '33444', '25821', '31880', '40463', '35224', '44269', '29592', '12159', '705', '203', '172', '282', '646', '1005', '2781', '3755', '3593', '3846', '3126', '3245', '3830', '2247', '3329', '2786', '2033', '1935', '3450', '4826', '3868', '1826', '2875', '2142', '3980', '4232', '2488', '1915', '1955', '2686', '2246', '1663', '1255', '1664', '3373', '3646', '1894', '1619', '1958', '2858', '1097', '1090', '1408', '1693', '3015', '1155', '1592', '712', '1183', '1058', '1428', '1829', '1614', '2657', '1881', '1966', '1786', '1318', '1730', '1282', '1991', '1818', '2041', '993', '1260', '892', '921', '468', '604', '325', '164', '271', '363', '785', '498', '632', '591', '917', '136', '651', '1289', '1204', '1232', '1951', '1843', '3188', '1794', '2701', '1290', '5248', '5704', '4168', '4378', '2878', '4489', '4970', '2506', '560', '453', '775', '522', '600', '683', '850', '765', '1165', '1047', '907', '1782', '1150', '1690', '1297', '1324', '1623', '1631', '1731', '1078', '1331', '833', '1057', '1003', '1457', '1543', '885', '1773', '643', '877', '511', '786', '1049', '1578', '1108', '1482', '654', '1248', '869', '2085', '543', '353', '305', '323', '409', '558', '878', '1326', '1016', '870', '663', '400', '1164', '1972', '1576', '1839', '1522', '1824', '2661', '922', '1646', '1899', '796', '1159', '2094', '1277', '1697', '1618', '1724', '241', '368', '1142', '831', '3377', '1827', '1352', '820', '3072', '936', '1863', '2977', '1997', '1372', '3663', '1558', '772', '1882', '1040', '2398', '539', '813', '752', '1137', '286', '1745', '895', '1039', '342', '385', '880', '1779', '3613', '2242', '2346', '2557', '2318', '2145', '1225', '1450', '2387', '2320', '3446', '3689', '2107', '3016', '2282', '55', '889', '1325', '1974', '1975', '680', '1209', '1746', '668', '732', '702', '231', '856', '168', '977', '350', '1091', '611', '861', '1010', '746', '679', '492', '567', '415', '394', '698', '358', '137', '359', '537', '587', '1371', '328', '474', '635', '693', '225', '245', '321', '179', '472', '1979', '1857', '1435', '2092', '1735', '2596', '2464', '1528', '1719', '2415', '2392', '3576', '3867', '2783', '3273', '1911', '2155', '517', '332', '633', '640', '690', '272', '554', '462', '446', '1285', '722', '484', '692', '1076', '1198', '1094', '867', '1359', '714', '1107', '1563', '1414', '1273', '1989', '1833', '997', '1364', '1031', '1257', '615', '467', '366', '488', '500', '294', '642', '386', '593', '598', '658', '821', '547', '529', '811', '687', '1568', '1259', '1307', '1302', '1093', '283', '566', '701', '799', '448', '599', '1252', '519', '630', '430', '906', '398', '416', '499', '612', '275', '425', '872', '621', '1925', '666', '357', '530', '391', '743', '696', '829', '561', '762', '437', '443', '476', '450', '586', '1071', '1018', '962', '1213', '1588', '672', '1914', '1825', '3220', '1716', '1034', '292', '178', '166', '311', '284', '509', '536', '401', '590', '196', '304', '229', '279', '195', '382', '588', '296', '316', '247', '177', '302', '523', '216', '214', '645', '581', '351', '314', '206', '495', '841', '777', '512', '447', '348', '620', '575', '240', '406', '556', '783', '695', '864', '1102', '291', '308', '381', '236', '418', '996', '2218', '1545', '2040', '1547', '669', '2381', '2060', '3859', '8055', '7120', '6784', '6832', '15252', '17141', '18098', '8433', '17992', '8608', '16706', '20021', '16789', '9844', '4631', '18494', '28786', '19896', '22660', '19268', '2581', '18062', '13000', '21228', '13567', '14784', '15245', '35204', '22982', '37428', '20988', '20207', '17453', '18493', '37016', '19610', '13165', '9949', '16294', '21318', '10681', '12770', '33981', '7737', '16393', '6335', '3798', '6462', '10076', '4683', '6460', '3569', '1542', '3875', '11007', '5145', '11259', '5710', '15650', '15201', '1199', '5371', '6259', '9153', '4559', '4221', '3333', '5162', '11298', '18425', '6990', '12924', '13525', '12956', '31462', '19677', '30708', '45019', '9055', '45763', '26683', '43497', '19010', '39219', '21059', '41315', '53676', '15298', '1120', '1233', '951', '858', '2540', '3781', '5458', '2560', '2446', '4726', '6622', '3924', '9863', '9809', '22219', '15781', '6999', '7113', '1775', '5064', '9059', '9232', '4660', '12386', '5471', '17990', '8849', '22183', '13676', '7822', '10420', '15016', '7178', '13150', '14051', '9953', '6228', '10493', '22978', '13459', '4845', '9332', '5345', '3442', '3336', '9922', '1687', '5792', '3431', '1175', '2406', '4060', '3635', '2158', '3315', '4269', '1429', '8698', '13921', '7282', '5165', '4787', '2437', '9882', '3609', '5244', '3237', '1883', '2528', '2782', '3832', '1432', '5376', '11254', '6058', '5008', '21221', '1144', '5635', '2031', '13636', '5627', '18424', '15933', '18067', '36573', '6594', '10921', '13591', '1367', '2214', '5356', '5286', '3908', '960', '2339', '1310', '3370', '1294', '1740', '822', '574', '426', '3270', '2591', '4303', '5315', '2421', '2447', '8396', '4085', '11154', '6125', '8034', '9614', '6777', '4860', '3466', '3030', '6789', '2618', '9581', '3332', '7546', '2075', '11543', '3775', '7002', '10814', '8347', '11632', '8026', '8077', '2461', '6089', '1851', '803', '2162', '1996', '4525', '649', '6290', '1842', '2298', '6742', '5295', '4207', '2460', '2699', '2626', '2452', '4829', '2810', '7311', '2057', '4453', '3019', '4512', '2914', '15630', '14157', '20524', '20368', '13972', '21561', '25110', '11408', '29337', '11829', '21860', '44163', '37134', '8635', '5751', '36874', '16045', '26042', '25828', '1662', '1256', '1683', '721', '568', '1023', '930', '853', '849', '2604', '966', '1368', '1339', '2277', '1286', '1803', '2598', '2023', '4960', '4287', '2586', '2864', '1386', '534', '1400', '1393', '1846', '3052', '2676', '3406', '1342', '998', '2710', '1396', '988', '843', '1176', '2172', '2982', '2886', '1902', '344', '652', '1681', '565', '684', '2045', '290', '524', '258', '2493', '1936', '1037', '5160', '2565', '3366', '956', '227', '982', '487', '215', '1726', '3182', '2467', '1977', '2766', '929', '5435', '2674', '4607', '5297', '1535', '6108', '1651', '6840', '4720', '6574', '7642', '10781', '5648', '16787', '8398', '11741', '9998', '7602', '6093', '12480', '4955', '9045', '9546', '8857', '5968', '5305', '4577', '5175', '8439', '10794', '3319', '4716', '4039', '1967', '6738', '3926', '14114', '5480', '12044', '2887', '10756', '8768', '12497', '12037', '4334', '2478', '2645', '2943', '11078', '6252', '15004', '11286', '17291', '10337', '8090', '4603', '10847', '7335', '11809', '5076', '14564', '6825', '5984', '16643', '3311', '34019', '8163', '42849', '3487', '11035', '396', '1015', '677', '812', '373', '1205', '273', '327', '1518', '1118', '1291', '1780', '1287', '618', '985', '1905', '1163', '873', '647', '2997', '1169', '1554', '1648', '2058', '844', '576', '2151', '757', '3931', '3720', '1456', '901', '6095', '3605', '3109', '6539', '5386', '9471', '9302', '7169', '6005', '7183', '5347', '6763', '4360', '2654', '3640', '1964', '1684', '1544', '2845', '909', '2744', '2529', '2741', '913', '1385', '1728', '1961', '2303', '2722', '2859', '1732', '1425', '2367', '1436', '5344', '6565', '7861', '5033', '6778', '2828', '11628', '4431', '4033', '7045', '7293', '2866', '10617', '9770', '9180', '16312', '2208', '2321', '674', '613', '2002', '894', '2597', '1405', '2271', '518', '343', '473', '616', '1121', '1141', '2685', '1384', '3783', '2385', '2443', '3786', '4120', '4344', '2330', '4375', '4454', '2578', '2830', '967', '1671', '2724', '1650', '1068', '2917', '3726', '3042', '2815', '2192', '3156', '3136', '3048', '2402', '2122', '3094', '1953', '3340', '1807', '2498', '1466', '521', '1044', '1193', '289', '706', '1263', '703', '1030', '792', '685', '374', '1823', '1394', '1845', '1184', '2078', '899', '1549', '2176', '2938', '3441', '4582', '5605', '5348', '1187', '1575', '2632', '1595', '2059', '2774', '6436', '4937', '3880', '1301', '2735', '3563', '3189', '1572', '1742', '1180', '2870', '2895', '2734', '2165', '3878', '2509', '2432', '2285', '3697', '3833', '1534', '1608', '1438', '2311', '3239', '1116', '1909', '1580', '1504', '738', '2564', '1516', '1237', '964', '514', '2229', '1868', '1496', '1523', '1784', '2752', '4936', '6951', '6572', '10459', '6441', '655', '980', '471', '219', '507', '1754', '458', '828', '549', '943', '427', '730', '1879', '1334', '1042', '1238', '1840', '2225', '232', '384', '439', '464', '451', '776', '526', '1402', '1194', '999', '973', '1380', '1170', '1632', '773', '1229', '362', '460', '434', '516', '397', '622', '387', '1316', '728', '857', '1489', '1791', '1270', '2182', '1239', '1227', '1529', '1470', '838', '827', '318', '602', '1447', '802', '503', '868', '1139', '1222', '686', '1253', '147', '726', '1243', '548', '1251', '931', '734', '1300', '795', '1134', '750', '740', '1345', '1085', '1427', '1029', '520', '369', '270', '1501', '1117', '2416', '2429', '1211', '817', '1174', '2003', '1507', '1477', '1441', '2326', '1321', '924', '986', '949', '1220', '1219', '1140', '563', '1041', '1465', '1413', '688', '1281', '749', '538', '1361', '1768', '2272', '1706', '1655', '1363', '1787', '1376', '994', '1589', '1317', '1048', '628', '255', '717', '709', '667', '393']\n"
     ]
    }
   ],
   "source": [
    "# Use `.unique()` to inspect 'Catch' column\n",
    "print(list(catch_data['Catch'].unique()))"
   ]
  },
  {
   "attachments": {},
   "cell_type": "markdown",
   "metadata": {
    "deletable": false,
    "editable": false
   },
   "source": [
    "<!-- END QUESTION -->\n",
    "\n",
    "## 4 \n",
    "The following cell shows a first attempt at updating the `Catch` column to be of data type `int64` instead of `object`. Converting from one data type to another is often called **casting**. \n",
    "\n",
    "To do it we use the [`astype()`](https://pandas.pydata.org/pandas-docs/stable/reference/api/pandas.Series.astype.html) method for `pandas.Series`. The `astype()` method does not modify the `pandas.Series` in place.\n",
    "\n",
    "Run the next cell and read the end of the error message closely."
   ]
  },
  {
   "cell_type": "code",
   "execution_count": null,
   "metadata": {
    "tags": []
   },
   "outputs": [],
   "source": [
    "catch_data['Catch'].astype('int64')"
   ]
  },
  {
   "attachments": {},
   "cell_type": "markdown",
   "metadata": {
    "deletable": false,
    "editable": false
   },
   "source": [
    "## 5 \n",
    "\n",
    "The previous error tells us there is a value 'I' (as in the letter 'I') that could not be converted to integer type.  It turns out the original data set was created from a PDF which was automatically converted into a CSV file and this 'I' vlaue should be 1.\n",
    "\n",
    "In the next cell find the row(s) causing this issue. Show the filtered row(s) as the output. Store your answer in the `catch_I` variable. `catch_I` should have one observation and contain the following columns: Region, Year, Species, Catch. It should contain the original index number in order to pass the test. "
   ]
  },
  {
   "cell_type": "code",
   "execution_count": null,
   "metadata": {
    "tags": []
   },
   "outputs": [],
   "source": [
    "catch_I = ...\n",
    "catch_I "
   ]
  },
  {
   "cell_type": "code",
   "execution_count": null,
   "metadata": {
    "deletable": false,
    "editable": false
   },
   "outputs": [],
   "source": [
    "grader.check(\"q5\")"
   ]
  },
  {
   "attachments": {},
   "cell_type": "markdown",
   "metadata": {},
   "source": [
    "## 6\n",
    "In the next cell:\n",
    "\n",
    "1. Update the value of I to 1.\n",
    "2. Access the row you updated to verify the value was changed and store this singe row in the `catch_1` variable. "
   ]
  },
  {
   "attachments": {},
   "cell_type": "markdown",
   "metadata": {
    "deletable": false,
    "editable": false
   },
   "source": [
    "<!-- BEGIN QUESTION -->\n",
    "\n"
   ]
  },
  {
   "cell_type": "code",
   "execution_count": null,
   "metadata": {
    "tags": []
   },
   "outputs": [],
   "source": [
    "\n",
    "\n",
    "catch_1 = ...\n",
    "\n",
    "# Print catch_1\n",
    "catch_1"
   ]
  },
  {
   "attachments": {},
   "cell_type": "markdown",
   "metadata": {
    "deletable": false,
    "editable": false
   },
   "source": [
    "<!-- END QUESTION -->\n",
    "\n",
    "## 7\n",
    "In the next cell:\n",
    "\n",
    "1. Update the `Catch` column in `catch_data` to be of type `int64`.\n",
    "2. Confirm you have updated the data type. Store the type of the `catch` column in the `catch_column_type` variable."
   ]
  },
  {
   "cell_type": "code",
   "execution_count": null,
   "metadata": {
    "tags": []
   },
   "outputs": [],
   "source": [
    "catch_column_type = ...\n",
    "catch_column_type"
   ]
  },
  {
   "cell_type": "code",
   "execution_count": null,
   "metadata": {
    "deletable": false,
    "editable": false
   },
   "outputs": [],
   "source": [
    "grader.check(\"q7\")"
   ]
  },
  {
   "attachments": {},
   "cell_type": "markdown",
   "metadata": {
    "deletable": false,
    "editable": false
   },
   "source": [
    "<!-- BEGIN QUESTION -->\n",
    "\n",
    "## 8\n",
    "Create a data frame with the average salmon catch per region. HINT: use `groupby()`. Store your dataframe in new variable called `avg_region`\n"
   ]
  },
  {
   "cell_type": "code",
   "execution_count": null,
   "metadata": {
    "tags": []
   },
   "outputs": [],
   "source": [
    "avg_region = ...\n",
    "avg_region"
   ]
  },
  {
   "cell_type": "code",
   "execution_count": null,
   "metadata": {
    "deletable": false,
    "editable": false
   },
   "outputs": [],
   "source": [
    "grader.check(\"q8\")"
   ]
  },
  {
   "attachments": {},
   "cell_type": "markdown",
   "metadata": {
    "deletable": false,
    "editable": false
   },
   "source": [
    "<!-- END QUESTION -->\n",
    "\n",
    "<!-- BEGIN QUESTION -->\n",
    "\n",
    "## 9 \n",
    "\n",
    "Use the dataframe you created in 8 to make a bar graph of the estimated average salmon catches by region from 1878 to 1997. The bars in the graph should be ordered by magnitude (increasing or decreasing is ok). Add a title  to your graph and update the axes labels if needed (check the units for the salmon catch). "
   ]
  },
  {
   "cell_type": "code",
   "execution_count": null,
   "metadata": {
    "scrolled": true,
    "tags": []
   },
   "outputs": [],
   "source": []
  },
  {
   "attachments": {},
   "cell_type": "markdown",
   "metadata": {
    "deletable": false,
    "editable": false
   },
   "source": [
    "<!-- END QUESTION -->\n",
    "\n",
    "<!-- BEGIN QUESTION -->\n",
    "\n",
    "## 10\n",
    "\n",
    "Write a brief description with key takeaways from the plot. Your answer shuld use the complete names for the management areas instead of their codes. You can find what each code stands for in the [original data repository](https://knb.ecoinformatics.org/view/df35b.304.2#df35b.303.1)."
   ]
  },
  {
   "cell_type": "code",
   "execution_count": null,
   "metadata": {
    "tags": []
   },
   "outputs": [],
   "source": []
  },
  {
   "attachments": {},
   "cell_type": "markdown",
   "metadata": {
    "deletable": false,
    "editable": false
   },
   "source": [
    "<!-- END QUESTION -->\n",
    "\n",
    "## 11\n",
    "\n",
    "Collect all the relevant code into the first blank cell of the notebook titled \"COMPLETE WORKFLOW\". This single cell will have the end-to-end workflow: from importing libraries and loading the data, to producing the graph. The *only* ouput of this cell should be the graph you produced in the previous exercise. Further guidance on what to include in this final workflow is in the [assignment rubric](https://docs.google.com/document/d/1x0BoU6IH4cnOR1-n7i9CYQ9wUC37yDpYlQ4j6rCfcsU/edit?tab=t.0)."
   ]
  },
  {
   "attachments": {},
   "cell_type": "markdown",
   "metadata": {
    "deletable": false,
    "editable": false
   },
   "source": [
    "---\n",
    "\n",
    "To double-check your work, the cell below will rerun all of the autograder tests."
   ]
  },
  {
   "cell_type": "code",
   "execution_count": null,
   "metadata": {
    "deletable": false,
    "editable": false
   },
   "outputs": [],
   "source": [
    "grader.check_all()"
   ]
  }
 ],
 "metadata": {
  "kernelspec": {
   "display_name": "Python 3 (ipykernel)",
   "language": "python",
   "name": "python3"
  },
  "language_info": {
   "codemirror_mode": {
    "name": "ipython",
    "version": 3
   },
   "file_extension": ".py",
   "mimetype": "text/x-python",
   "name": "python",
   "nbconvert_exporter": "python",
   "pygments_lexer": "ipython3",
   "version": "3.11.4"
  },
  "vscode": {
   "interpreter": {
    "hash": "096ff075efa46b48fdc6093cb088d328f1206dfedfbeb0f42cf6b14174f51118"
   }
  }
 },
 "nbformat": 4,
 "nbformat_minor": 4
}
